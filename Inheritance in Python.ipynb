{
 "cells": [
  {
   "cell_type": "markdown",
   "id": "616a9871-479b-487b-aa3e-306df1220b0b",
   "metadata": {},
   "source": [
    "# Inheritance in Python"
   ]
  },
  {
   "cell_type": "markdown",
   "id": "53110695-f630-4b83-a47f-428c6821a289",
   "metadata": {},
   "source": [
    "Inheritance is a mechanism that allows a new class to inherit attributes and methods from an existing class.\n",
    "* Parent class is also known as base class or superclass.\n",
    "* child class is known as derived class or subclas\n"
   ]
  },
  {
   "cell_type": "markdown",
   "id": "a628e6ee-1f34-41a4-b3f0-f8c9c2d8f70b",
   "metadata": {},
   "source": [
    "**Function overriding** is a concept in object-oriented programming where a subclass provides a specific implementation of a method that is already defined in its superclass. When a method in a subclass has the same name, parameters, and return type as a method in its superclass, it overrides the superclass method."
   ]
  },
  {
   "cell_type": "code",
   "execution_count": null,
   "id": "06851536-d1e6-489c-942a-9e0fa1af0d9e",
   "metadata": {},
   "outputs": [],
   "source": [
    "\n",
    "class A:\n",
    "    def show(self):\n",
    "        print(\"I am from CLASS A\")\n",
    "class B(A):\n",
    "    def show(self):\n",
    "        print(\"I am from class B\")\n",
    "\n",
    "a=B()\n",
    "a.show()"
   ]
  },
  {
   "cell_type": "markdown",
   "id": "600e7200",
   "metadata": {},
   "source": [
    "# Pass Statement"
   ]
  },
  {
   "cell_type": "markdown",
   "id": "37bed831",
   "metadata": {},
   "source": [
    "**pass** is a Python statement used to indicate that no action should be taken or that a code block is intentionally empty"
   ]
  },
  {
   "cell_type": "markdown",
   "id": "374be0ea",
   "metadata": {},
   "source": [
    "* It is placed where a statement is syntactically required but no action needs to be performed.\n",
    "* It's often used in function or class definitions, loops, or conditional statements."
   ]
  },
  {
   "cell_type": "code",
   "execution_count": null,
   "id": "a2d7760d",
   "metadata": {},
   "outputs": [],
   "source": [
    "# Parent class\n",
    "class Vehicle:\n",
    "    def __init__(self, brand):\n",
    "        self.brand = brand\n",
    "\n",
    "    def drive(self):\n",
    "        print(f\"{self.brand} is being driven.\")\n",
    "\n",
    "# Child class inheriting from Vehicle\n",
    "class Car(Vehicle):\n",
    "    pass\n",
    "\n",
    "# Create an instance of Car\n",
    "my_car = Car(\"Toyota\")\n",
    "my_car.drive() "
   ]
  },
  {
   "cell_type": "markdown",
   "id": "5a236c03",
   "metadata": {},
   "source": [
    "**super()** is a built-in Python function that allows a child class to access methods and attributes from its parent class."
   ]
  },
  {
   "cell_type": "code",
   "execution_count": null,
   "id": "78f04647",
   "metadata": {},
   "outputs": [],
   "source": [
    "class Father:\n",
    "    def __init__(self,name):\n",
    "        self.name = name\n",
    "    def show(self):\n",
    "        print(f'My name is {self.name}')\n",
    "\n",
    "class Son(Father):\n",
    "    def __init__(self, name, address):\n",
    "        super().__init__(name)\n",
    "        self.address = address\n",
    "    def show(self):\n",
    "        print(f'My name is {self.name}, address is {self.address}')\n",
    "   \n",
    "obj1 = Son(\"Ram\", \"ktm\")\n",
    "obj1.show()"
   ]
  },
  {
   "cell_type": "code",
   "execution_count": null,
   "id": "5d3c9120",
   "metadata": {},
   "outputs": [],
   "source": [
    "class Employee:\n",
    "    MIN_SALARY = 30000\n",
    "\n",
    "    def __init__(self, name, salary=MIN_SALARY):\n",
    "        self.name = name\n",
    "        if salary >= Employee.MIN_SALARY:\n",
    "            self.salary = salary\n",
    "        else:\n",
    "            self.salary = Employee.MIN_SALARY\n",
    "\n",
    "    def add_salary(self, amount):\n",
    "        self.salary += amount\n",
    "\n",
    "# Define a new class Manager inheriting from Employee\n",
    "class Manager(Employee):\n",
    "    pass\n",
    "\n",
    "# Define a Manager object\n",
    "manager = Manager(\"Sweta\", 40000)\n",
    "\n",
    "# Print manager's name\n",
    "print(manager.name)"
   ]
  },
  {
   "cell_type": "markdown",
   "id": "609a4a16",
   "metadata": {},
   "source": [
    "* using super() is like asking Python to automatically find the parent class for us, which is useful because it makes our code more flexible if we change the class hierarchy later.\n",
    "* Directly calling the parent class's __init__ method , here I have used Employe.__init__ means we are explicitly saying which class's __init__ method we want to use, which can be simpler but less flexible if you change our class structure later."
   ]
  },
  {
   "cell_type": "code",
   "execution_count": null,
   "id": "4d98d500",
   "metadata": {},
   "outputs": [],
   "source": [
    "class Employee:\n",
    "  def __init__(self, name, salary=30000):\n",
    "    self.name = name\n",
    "    self.salary = salary\n",
    "\n",
    "  def give_raise(self, amount):\n",
    "    self.salary += amount\n",
    "\n",
    "class Manager(Employee):\n",
    "  \n",
    "  def __init__(self, name, salary=50000, project=None):\n",
    "    \n",
    "    \n",
    "    Employee.__init__(self, name , salary)\n",
    "    \n",
    "    self.project = project\n",
    "\n",
    "  def display(self):\n",
    "    print(\"Manager \", self.name)"
   ]
  },
  {
   "cell_type": "code",
   "execution_count": 3,
   "id": "bf904bb9",
   "metadata": {},
   "outputs": [
    {
     "name": "stdout",
     "output_type": "stream",
     "text": [
      "80560.0\n"
     ]
    }
   ],
   "source": [
    "class Employee:\n",
    "  def __init__(self, name, salary=30000):\n",
    "    self.name = name\n",
    "    self.salary = salary\n",
    "\n",
    "  def give_raise(self, amount):\n",
    "    self.salary += amount\n",
    "\n",
    "class Manager(Employee):\n",
    "  def display(self):\n",
    "    print(\"Manager \", self.name)\n",
    "\n",
    "  def __init__(self, name, salary=50000, project=None):\n",
    "    Employee.__init__(self, name, salary)\n",
    "    self.project = project\n",
    "\n",
    "  # Add a give_raise method\n",
    "  def give_raise(self, amount, bonus = 1.05):\n",
    "    new_amount = amount * bonus  \n",
    "    Employee.give_raise(self,new_amount)\n",
    "    \n",
    "mngr = Manager(\"Ashta Dunbar\", 78500)\n",
    "mngr.give_raise(2000, bonus=1.03)\n",
    "print(mngr.salary)"
   ]
  },
  {
   "cell_type": "code",
   "execution_count": 4,
   "id": "86068384",
   "metadata": {},
   "outputs": [
    {
     "name": "stdout",
     "output_type": "stream",
     "text": [
      "p.MAX_SPEED =  3\n",
      "r.MAX_SPEED =  5\n",
      "p.MAX_POSITION =  10\n",
      "r.MAX_POSITION =  10\n"
     ]
    }
   ],
   "source": [
    "class Player:\n",
    "    MAX_POSITION_DEFAULT = 10\n",
    "    MAX_SPEED_DEFAULT = 3\n",
    "\n",
    "    def __init__(self):\n",
    "        self.position = 0\n",
    "\n",
    "    def move(self, steps):\n",
    "        if steps > Player.MAX_SPEED_DEFAULT:\n",
    "            new_position = self.position + steps\n",
    "        if new_position > Player.MAX_POSITION_DEFAULT:\n",
    "            self.position = new_position - Player.MAX_POSITION_DEFAULT\n",
    "        else:\n",
    "            self.position = new_position\n",
    "\n",
    "# Create a Racer class inheriting from Player\n",
    "class Racer(Player):\n",
    "    # Define MAX_SPEED with a value of 5\n",
    "    MAX_SPEED_DEFAULT = 5\n",
    "\n",
    "# Create Player and Racer objects\n",
    "p = Player()\n",
    "r = Racer()\n",
    "\n",
    "# Print MAX_SPEED and MAX_POSITION for Player and Racer\n",
    "print(\"p.MAX_SPEED =\", p.MAX_SPEED_DEFAULT)\n",
    "print(\"r.MAX_SPEED =\", r.MAX_SPEED_DEFAULT)\n",
    "print(\"p.MAX_POSITION =\", p.MAX_POSITION_DEFAULT)\n",
    "print(\"r.MAX_POSITION =\", r.MAX_POSITION_DEFAULT)"
   ]
  },
  {
   "cell_type": "markdown",
   "id": "39cd7759",
   "metadata": {},
   "source": [
    "## the __eq__()method"
   ]
  },
  {
   "cell_type": "markdown",
   "id": "d38780bd",
   "metadata": {},
   "source": [
    "* It is called when 2 objects of class are compared using **==**"
   ]
  },
  {
   "cell_type": "markdown",
   "id": "25d07a81",
   "metadata": {},
   "source": [
    "* It accept the two arguments self and other"
   ]
  },
  {
   "cell_type": "markdown",
   "id": "6b495509",
   "metadata": {},
   "source": [
    "* It return boolean"
   ]
  },
  {
   "cell_type": "markdown",
   "id": "c665a4df",
   "metadata": {},
   "source": [
    "# CASE 1"
   ]
  },
  {
   "cell_type": "code",
   "execution_count": 5,
   "id": "2b71881c",
   "metadata": {},
   "outputs": [
    {
     "name": "stdout",
     "output_type": "stream",
     "text": [
      "False\n"
     ]
    }
   ],
   "source": [
    "class MyClass:\n",
    "    def __init__(self, attribute):\n",
    "        self.attribute = attribute\n",
    "\n",
    "# Create two objects with identical data\n",
    "obj1 = MyClass(10)\n",
    "obj2 = MyClass(10)\n",
    "\n",
    "# Check if they are equal\n",
    "print(obj1 == obj2)  # Output will be False"
   ]
  },
  {
   "cell_type": "code",
   "execution_count": 6,
   "id": "12df9dd5",
   "metadata": {},
   "outputs": [
    {
     "name": "stdout",
     "output_type": "stream",
     "text": [
      "True\n"
     ]
    }
   ],
   "source": [
    "class MyClass:\n",
    "    def __init__(self, attribute):\n",
    "        self.attribute = attribute\n",
    "    \n",
    "    def __eq__(self, other):\n",
    "        if isinstance(other, MyClass):\n",
    "            return self.attribute == other.attribute\n",
    "        return False\n",
    "\n",
    "\n",
    "obj1 = MyClass(10)\n",
    "obj2 = MyClass(10)\n",
    "print(obj1 == obj2)  # Output will be True"
   ]
  },
  {
   "cell_type": "code",
   "execution_count": 7,
   "id": "ffbc81cf",
   "metadata": {},
   "outputs": [
    {
     "name": "stdout",
     "output_type": "stream",
     "text": [
      "True\n",
      "False\n"
     ]
    }
   ],
   "source": [
    "class BankAccount:\n",
    "  def __init__(self,number, balance=0):\n",
    "    self.balance = balance\n",
    "    self.number = number\n",
    "      \n",
    "  def withdraw(self, amount):\n",
    "    self.balance -= amount \n",
    "     \n",
    "  def __eq__ (self, other):\n",
    "    return self.number == other.number   \n",
    "\n",
    "# Create accounts and compare them       \n",
    "acct1 = BankAccount(212, 1000)\n",
    "acct2 = BankAccount(212, 1000)\n",
    "acct3 = BankAccount(12333, 1000)\n",
    "print(acct1 == acct2)\n",
    "print(acct1 == acct3)"
   ]
  },
  {
   "cell_type": "code",
   "execution_count": null,
   "id": "419b9c66",
   "metadata": {},
   "outputs": [],
   "source": [
    "class PhoneNum:\n",
    "    def __init__(self, number):\n",
    "        self.number = number\n",
    "\n",
    "    def __eq__(self, other):\n",
    "        return self.number == other.number\n",
    "\n",
    "pn = PhoneNum(873555333)  # Create a Phone instance\n",
    "\n",
    "class BankAccount:\n",
    "    def __init__(self, number, balance=0):\n",
    "        self.number, self.balance = number, balance\n",
    "      \n",
    "    def withdraw(self, amount):\n",
    "        self.balance -= amount \n",
    "\n",
    "    def __eq__(self, other):\n",
    "        return (self.number == other.number) and (type(self) == type(other))\n",
    "\n",
    "acct = BankAccount(873555333)  # Create a BankAccount instance\n",
    "\n",
    "# Check if the two objects are equal\n",
    "print(acct == pn)  # Output will be False because they are of different types\n"
   ]
  },
  {
   "cell_type": "code",
   "execution_count": null,
   "id": "ee36d60c",
   "metadata": {},
   "outputs": [],
   "source": []
  }
 ],
 "metadata": {
  "kernelspec": {
   "display_name": "Python 3 (ipykernel)",
   "language": "python",
   "name": "python3"
  },
  "language_info": {
   "codemirror_mode": {
    "name": "ipython",
    "version": 3
   },
   "file_extension": ".py",
   "mimetype": "text/x-python",
   "name": "python",
   "nbconvert_exporter": "python",
   "pygments_lexer": "ipython3",
   "version": "3.9.12"
  }
 },
 "nbformat": 4,
 "nbformat_minor": 5
}
