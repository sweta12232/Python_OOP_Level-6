{
 "cells": [
  {
   "cell_type": "markdown",
   "id": "ac5c288f-e20d-4493-9ed7-b1f4f03f267f",
   "metadata": {},
   "source": [
    "# OOP in Python"
   ]
  },
  {
   "cell_type": "markdown",
   "id": "a364735e-1fec-4d0a-a17e-b825ed2a09a0",
   "metadata": {},
   "source": [
    "It stands for \"Object Oriented Programming\",  which is a programming paradigm that revolves around the concept of **object**"
   ]
  },
  {
   "cell_type": "markdown",
   "id": "fe97ecbe-2791-422f-a582-9e7ed681328a",
   "metadata": {},
   "source": [
    "### Classes in Python"
   ]
  },
  {
   "cell_type": "markdown",
   "id": "d649bd9c",
   "metadata": {},
   "source": [
    "\n",
    "*  Template or blueprint for creating object for mobile or group of methods or attributes(variable) and methods or we can say that blueprint for objects outlining possible states and behaviors"
   ]
  },
  {
   "cell_type": "markdown",
   "id": "66497b7b-4a9f-4ea8-991d-e0550783a942",
   "metadata": {},
   "source": [
    "### Object in Python"
   ]
  },
  {
   "cell_type": "markdown",
   "id": "9c362fd9-e2fc-4c07-9a63-fad99c08fe42",
   "metadata": {},
   "source": [
    "In python everything is object(string, numbers, dataframe, function)\n",
    "Real world entities/ instances of class for example"
   ]
  },
  {
   "cell_type": "markdown",
   "id": "0768ed60",
   "metadata": {},
   "source": [
    "Object = **data** + **functionality**\n",
    "* An objects's data  is called **state**     --> attributes\n",
    "* An object's functionality is called **Behavior**    --> methods"
   ]
  },
  {
   "cell_type": "markdown",
   "id": "0c2cea2c",
   "metadata": {},
   "source": [
    "### parameters &  arguments"
   ]
  },
  {
   "cell_type": "markdown",
   "id": "71122f94",
   "metadata": {},
   "source": [
    "* Parameter are variables listed in the function definition\n",
    "* Arguments are the values passed to the function when it's called."
   ]
  },
  {
   "cell_type": "code",
   "execution_count": null,
   "id": "7af41586",
   "metadata": {},
   "outputs": [],
   "source": [
    "def show(name):  # Here, 'name' is a parameter.\n",
    "    print(\"Hello,\", name)\n",
    "\n",
    "show(\"Sweet\")  # Here, 'Alice' is an argument passed to the 'greet' function."
   ]
  },
  {
   "cell_type": "markdown",
   "id": "25a1b3e4",
   "metadata": {},
   "source": [
    "class myClass:\n",
    "    def myMethod(self, arguments):\n",
    "       self.arguments = arguments"
   ]
  },
  {
   "cell_type": "markdown",
   "id": "99bcaad6",
   "metadata": {},
   "source": [
    "## Attributes "
   ]
  },
  {
   "cell_type": "markdown",
   "id": "9b0aaf75",
   "metadata": {},
   "source": [
    "It is the variable to define properties of any objects"
   ]
  },
  {
   "cell_type": "markdown",
   "id": "07760457",
   "metadata": {},
   "source": [
    "OOP bundles data with methods that operates on data\n",
    "Students Id should be an atrributes\n",
    "In oop, attributes are created by assignment (=) in methods"
   ]
  },
  {
   "cell_type": "markdown",
   "id": "0aee45f4",
   "metadata": {},
   "source": [
    "**Types of Attributes**\n",
    "* Class Attribute:  Shared between all the objects of the class\n",
    "* Instance Attribute: Defined inside the constructor method "
   ]
  },
  {
   "cell_type": "code",
   "execution_count": null,
   "id": "b0489f56",
   "metadata": {},
   "outputs": [],
   "source": [
    "class Dog:\n",
    "    # Class attributes\n",
    "    species = \"G\"\n",
    "    \n",
    "    def __init__(self, name, age):\n",
    "        # Instance attributes\n",
    "        self.name = name\n",
    "        self.age = age\n",
    "\n",
    "# Creating instances of the Dog class\n",
    "dog1 = Dog(\"Snoffy\", 3)\n",
    "dog2 = Dog(\"Ace\", 5)\n",
    "\n",
    "# Accessing class attribute\n",
    "print(\"Species of dogs:\", Dog.species)\n",
    "\n",
    "# Accessing instance attributes\n",
    "print(\"Dog 1:\", dog1.name, dog1.age)\n",
    "print(\"Dog 2:\", dog2.name, dog2.age)"
   ]
  },
  {
   "cell_type": "markdown",
   "id": "064000e6",
   "metadata": {},
   "source": [
    "## self parameter "
   ]
  },
  {
   "cell_type": "markdown",
   "id": "e4b5665d",
   "metadata": {},
   "source": [
    "In every first arguments in method we use **self** parameter"
   ]
  },
  {
   "cell_type": "markdown",
   "id": "d47a302e",
   "metadata": {},
   "source": [
    "It is used  to access method and attributes from the oustide of class\n",
    "* **Identifier**: \"self\" is a conventional name given to the first parameter of instance methods in Python classes.\n",
    "* **Reference to Instance**: It acts as a reference to the current instance of the class, allowing methods to access and modify instance attributes.\n",
    "* **Unique Identification**: It helps in distinguishing between different instances of the same class, ensuring that methods operate on the correct instance.\n",
    "* **Implicitly Passed**: When calling an instance method, Python automatically passes the instance itself as the first argument, which is captured by the \"self\" parameter."
   ]
  },
  {
   "cell_type": "code",
   "execution_count": null,
   "id": "963f0f04",
   "metadata": {},
   "outputs": [],
   "source": [
    "class students:\n",
    "    # Class attributes\n",
    "    School_name = \"King's College\"\n",
    "    def student_name(self, name):\n",
    "    # Instance attributes\n",
    "        self.name = name\n",
    "    def studentinfo(self):\n",
    "        print(f\"The name of student is {self.name}\")\n",
    "              \n",
    "stu = Students()\n",
    "# Accessing class attribute\n",
    "print(\"The name of school is\", stu.School_name)\n",
    "# Accessing instance attributes\n",
    "stu.student_name(\"Sweta\")\n",
    "stu.studentinfo()\n",
    "stu.student_name(\"Bishnu\")\n",
    "stu.studentinfo()\n",
    "stu.student_name(\"Suraj\")\n",
    "stu.studentinfo()"
   ]
  },
  {
   "cell_type": "markdown",
   "id": "b9ef9ea7",
   "metadata": {},
   "source": [
    "### Constructor "
   ]
  },
  {
   "cell_type": "code",
   "execution_count": null,
   "id": "ea228ffd",
   "metadata": {},
   "outputs": [],
   "source": [
    "__init__ method is called every time an object is created , it is called as dunder init\n",
    "it is called automatically because of __methodname__ syntax"
   ]
  },
  {
   "cell_type": "code",
   "execution_count": null,
   "id": "ac867d00",
   "metadata": {},
   "outputs": [],
   "source": [
    "class Students:\n",
    "    def __init__(self, name):\n",
    "        self.name = name\n",
    "        print(\"The here__init__ method is called\")"
   ]
  },
  {
   "cell_type": "markdown",
   "id": "4b2d944d",
   "metadata": {},
   "source": [
    "### Two ways to define attributes"
   ]
  },
  {
   "cell_type": "markdown",
   "id": "d17037ab",
   "metadata": {},
   "source": [
    "1. Attributes in methods"
   ]
  },
  {
   "cell_type": "code",
   "execution_count": null,
   "id": "f5997239",
   "metadata": {},
   "outputs": [],
   "source": [
    "class MyClass:\n",
    "    def my_method0(self, attributes1):\n",
    "        self.attributes1 = attributes1\n",
    "# attributes1 is created\n",
    "obj = MyClass()\n",
    "obj.my_method0(\"val1\")\n"
   ]
  },
  {
   "cell_type": "markdown",
   "id": "a0bc328e",
   "metadata": {},
   "source": [
    "2. Atrributes in the constructor"
   ]
  },
  {
   "cell_type": "code",
   "execution_count": null,
   "id": "3e1a88fb",
   "metadata": {},
   "outputs": [],
   "source": [
    "class MyClass:\n",
    "    def __init__(self, attributes1):\n",
    "        self.attributes1 = attributes1\n",
    "        \n",
    "#attributes1 is created\n",
    "obj = MyClass(\"val1\")"
   ]
  },
  {
   "cell_type": "markdown",
   "id": "4c8c058d",
   "metadata": {},
   "source": [
    "## Creating empty class\n"
   ]
  },
  {
   "cell_type": "code",
   "execution_count": null,
   "id": "d7d0b640",
   "metadata": {},
   "outputs": [],
   "source": [
    "class Python:\n",
    "    \"\"\"Python is main blue print\"\"\"\n",
    "    pass\n",
    "py = Python()\n",
    "print(py)"
   ]
  },
  {
   "cell_type": "code",
   "execution_count": null,
   "id": "18b975b3",
   "metadata": {},
   "outputs": [],
   "source": [
    "class Python:\n",
    "    \"\"\"Python is main blue print\"\"\"\n",
    "    name = \"Anaconda\"\n",
    "py = Python()\n",
    "print(py.name)"
   ]
  },
  {
   "cell_type": "code",
   "execution_count": null,
   "id": "8a6bbbe5",
   "metadata": {},
   "outputs": [],
   "source": []
  }
 ],
 "metadata": {
  "kernelspec": {
   "display_name": "Python 3 (ipykernel)",
   "language": "python",
   "name": "python3"
  },
  "language_info": {
   "codemirror_mode": {
    "name": "ipython",
    "version": 3
   },
   "file_extension": ".py",
   "mimetype": "text/x-python",
   "name": "python",
   "nbconvert_exporter": "python",
   "pygments_lexer": "ipython3",
   "version": "3.9.12"
  }
 },
 "nbformat": 4,
 "nbformat_minor": 5
}
